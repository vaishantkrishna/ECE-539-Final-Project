{
  "cells": [
    {
      "cell_type": "code",
      "execution_count": 1,
      "metadata": {},
      "outputs": [],
      "source": [
        "import pandas as pd\n",
        "import seaborn as sns\n",
        "import matplotlib.pyplot as plt\n",
        "from sklearn.utils import resample\n",
        "import nltk\n",
        "from nltk.tokenize import word_tokenize\n",
        "import pandas as pd\n",
        "import re\n",
        "import tensorflow as tf\n",
        "from nltk.corpus import stopwords\n",
        "from nltk.stem import WordNetLemmatizer\n",
        "from nltk.corpus import stopwords\n",
        "from sklearn.feature_extraction.text import TfidfVectorizer\n",
        "import re"
      ]
    },
    {
      "cell_type": "code",
      "execution_count": 3,
      "metadata": {},
      "outputs": [],
      "source": [
        "fake_df = pd.read_csv('data/Fake.csv')\n",
        "true_df = pd.read_csv('data/True.csv')"
      ]
    },
    {
      "cell_type": "markdown",
      "metadata": {},
      "source": [
        "Combining Datasets for Balance Analysis"
      ]
    },
    {
      "cell_type": "code",
      "execution_count": 4,
      "metadata": {},
      "outputs": [
        {
          "data": {
            "text/html": [
              "<div>\n",
              "<style scoped>\n",
              "    .dataframe tbody tr th:only-of-type {\n",
              "        vertical-align: middle;\n",
              "    }\n",
              "\n",
              "    .dataframe tbody tr th {\n",
              "        vertical-align: top;\n",
              "    }\n",
              "\n",
              "    .dataframe thead th {\n",
              "        text-align: right;\n",
              "    }\n",
              "</style>\n",
              "<table border=\"1\" class=\"dataframe\">\n",
              "  <thead>\n",
              "    <tr style=\"text-align: right;\">\n",
              "      <th></th>\n",
              "      <th>text</th>\n",
              "      <th>title</th>\n",
              "      <th>source</th>\n",
              "    </tr>\n",
              "  </thead>\n",
              "  <tbody>\n",
              "    <tr>\n",
              "      <th>0</th>\n",
              "      <td>A clear violation of Obama s lopsided  deal  w...</td>\n",
              "      <td>BREAKING: Iran Publicly Humiliates Obama…Unvei...</td>\n",
              "      <td>Fake</td>\n",
              "    </tr>\n",
              "    <tr>\n",
              "      <th>1</th>\n",
              "      <td>You have got to be kidding me! After all the t...</td>\n",
              "      <td>STUNNING DEVELOPMENT: OBAMA GIVES $75 MILLION ...</td>\n",
              "      <td>Fake</td>\n",
              "    </tr>\n",
              "    <tr>\n",
              "      <th>2</th>\n",
              "      <td>Meanwhile, families with two full time working...</td>\n",
              "      <td>NO MORE FUN FREEBIES ON BACKS OF HARD WORKING ...</td>\n",
              "      <td>Fake</td>\n",
              "    </tr>\n",
              "    <tr>\n",
              "      <th>3</th>\n",
              "      <td>JOHANNESBURG (Reuters) - Zimbabwe s top genera...</td>\n",
              "      <td>Zimbabwe's Mugabe in talks with ousted vice pr...</td>\n",
              "      <td>True</td>\n",
              "    </tr>\n",
              "    <tr>\n",
              "      <th>4</th>\n",
              "      <td>NEW YORK (Reuters) - Republican presidential n...</td>\n",
              "      <td>Trump calls tax avoidance 'smart,' most Americ...</td>\n",
              "      <td>True</td>\n",
              "    </tr>\n",
              "    <tr>\n",
              "      <th>...</th>\n",
              "      <td>...</td>\n",
              "      <td>...</td>\n",
              "      <td>...</td>\n",
              "    </tr>\n",
              "    <tr>\n",
              "      <th>44893</th>\n",
              "      <td>LIMA (Reuters) - President Pedro Pablo Kuczyns...</td>\n",
              "      <td>Peru's Congress prepares to oust President Kuc...</td>\n",
              "      <td>True</td>\n",
              "    </tr>\n",
              "    <tr>\n",
              "      <th>44894</th>\n",
              "      <td>SEOUL (Reuters) - South Korea s environment mi...</td>\n",
              "      <td>South Korea to announce approval of environmen...</td>\n",
              "      <td>True</td>\n",
              "    </tr>\n",
              "    <tr>\n",
              "      <th>44895</th>\n",
              "      <td>Donald Trump s self-congratulatory ad to celeb...</td>\n",
              "      <td>CNN Refuses To Air Trump’s First 100 Days Ad ...</td>\n",
              "      <td>Fake</td>\n",
              "    </tr>\n",
              "    <tr>\n",
              "      <th>44896</th>\n",
              "      <td>WASHINGTON (Reuters) - U.S. Republican preside...</td>\n",
              "      <td>Santorum to pull out of Republican White House...</td>\n",
              "      <td>True</td>\n",
              "    </tr>\n",
              "    <tr>\n",
              "      <th>44897</th>\n",
              "      <td>Here s the thing about being the leader of the...</td>\n",
              "      <td>The World Speaks Out On Trump — Top Foreign D...</td>\n",
              "      <td>Fake</td>\n",
              "    </tr>\n",
              "  </tbody>\n",
              "</table>\n",
              "<p>44898 rows × 3 columns</p>\n",
              "</div>"
            ],
            "text/plain": [
              "                                                    text  \\\n",
              "0      A clear violation of Obama s lopsided  deal  w...   \n",
              "1      You have got to be kidding me! After all the t...   \n",
              "2      Meanwhile, families with two full time working...   \n",
              "3      JOHANNESBURG (Reuters) - Zimbabwe s top genera...   \n",
              "4      NEW YORK (Reuters) - Republican presidential n...   \n",
              "...                                                  ...   \n",
              "44893  LIMA (Reuters) - President Pedro Pablo Kuczyns...   \n",
              "44894  SEOUL (Reuters) - South Korea s environment mi...   \n",
              "44895  Donald Trump s self-congratulatory ad to celeb...   \n",
              "44896  WASHINGTON (Reuters) - U.S. Republican preside...   \n",
              "44897  Here s the thing about being the leader of the...   \n",
              "\n",
              "                                                   title source  \n",
              "0      BREAKING: Iran Publicly Humiliates Obama…Unvei...   Fake  \n",
              "1      STUNNING DEVELOPMENT: OBAMA GIVES $75 MILLION ...   Fake  \n",
              "2      NO MORE FUN FREEBIES ON BACKS OF HARD WORKING ...   Fake  \n",
              "3      Zimbabwe's Mugabe in talks with ousted vice pr...   True  \n",
              "4      Trump calls tax avoidance 'smart,' most Americ...   True  \n",
              "...                                                  ...    ...  \n",
              "44893  Peru's Congress prepares to oust President Kuc...   True  \n",
              "44894  South Korea to announce approval of environmen...   True  \n",
              "44895   CNN Refuses To Air Trump’s First 100 Days Ad ...   Fake  \n",
              "44896  Santorum to pull out of Republican White House...   True  \n",
              "44897   The World Speaks Out On Trump — Top Foreign D...   Fake  \n",
              "\n",
              "[44898 rows x 3 columns]"
            ]
          },
          "execution_count": 4,
          "metadata": {},
          "output_type": "execute_result"
        }
      ],
      "source": [
        "fake_df['source'] = 'Fake'\n",
        "true_df['source'] = 'True'\n",
        "\n",
        "combined_df = pd.concat([fake_df, true_df], axis=0)\n",
        "df = combined_df.sample(frac=1).reset_index(drop=True)\n",
        "df = df[['text', 'title', 'source']] \n",
        "df.to_csv('data/combined.csv', index=False)\n",
        "df"
      ]
    },
    {
      "cell_type": "markdown",
      "metadata": {},
      "source": [
        "Source Assessment"
      ]
    },
    {
      "cell_type": "code",
      "execution_count": 5,
      "metadata": {},
      "outputs": [
        {
          "data": {
            "text/html": [
              "<div>\n",
              "<style scoped>\n",
              "    .dataframe tbody tr th:only-of-type {\n",
              "        vertical-align: middle;\n",
              "    }\n",
              "\n",
              "    .dataframe tbody tr th {\n",
              "        vertical-align: top;\n",
              "    }\n",
              "\n",
              "    .dataframe thead th {\n",
              "        text-align: right;\n",
              "    }\n",
              "</style>\n",
              "<table border=\"1\" class=\"dataframe\">\n",
              "  <thead>\n",
              "    <tr style=\"text-align: right;\">\n",
              "      <th></th>\n",
              "      <th>text</th>\n",
              "      <th>title</th>\n",
              "      <th>source</th>\n",
              "    </tr>\n",
              "  </thead>\n",
              "  <tbody>\n",
              "    <tr>\n",
              "      <th>0</th>\n",
              "      <td>A clear violation of Obama s lopsided  deal  w...</td>\n",
              "      <td>BREAKING: Iran Publicly Humiliates Obama…Unvei...</td>\n",
              "      <td>Fake</td>\n",
              "    </tr>\n",
              "    <tr>\n",
              "      <th>1</th>\n",
              "      <td>You have got to be kidding me! After all the t...</td>\n",
              "      <td>STUNNING DEVELOPMENT: OBAMA GIVES $75 MILLION ...</td>\n",
              "      <td>Fake</td>\n",
              "    </tr>\n",
              "    <tr>\n",
              "      <th>2</th>\n",
              "      <td>Meanwhile, families with two full time working...</td>\n",
              "      <td>NO MORE FUN FREEBIES ON BACKS OF HARD WORKING ...</td>\n",
              "      <td>Fake</td>\n",
              "    </tr>\n",
              "    <tr>\n",
              "      <th>3</th>\n",
              "      <td>JOHANNESBURG (Reuters) - Zimbabwe s top genera...</td>\n",
              "      <td>Zimbabwe's Mugabe in talks with ousted vice pr...</td>\n",
              "      <td>True</td>\n",
              "    </tr>\n",
              "    <tr>\n",
              "      <th>4</th>\n",
              "      <td>NEW YORK (Reuters) - Republican presidential n...</td>\n",
              "      <td>Trump calls tax avoidance 'smart,' most Americ...</td>\n",
              "      <td>True</td>\n",
              "    </tr>\n",
              "    <tr>\n",
              "      <th>...</th>\n",
              "      <td>...</td>\n",
              "      <td>...</td>\n",
              "      <td>...</td>\n",
              "    </tr>\n",
              "    <tr>\n",
              "      <th>44893</th>\n",
              "      <td>LIMA (Reuters) - President Pedro Pablo Kuczyns...</td>\n",
              "      <td>Peru's Congress prepares to oust President Kuc...</td>\n",
              "      <td>True</td>\n",
              "    </tr>\n",
              "    <tr>\n",
              "      <th>44894</th>\n",
              "      <td>SEOUL (Reuters) - South Korea s environment mi...</td>\n",
              "      <td>South Korea to announce approval of environmen...</td>\n",
              "      <td>True</td>\n",
              "    </tr>\n",
              "    <tr>\n",
              "      <th>44895</th>\n",
              "      <td>Donald Trump s self-congratulatory ad to celeb...</td>\n",
              "      <td>CNN Refuses To Air Trump’s First 100 Days Ad ...</td>\n",
              "      <td>Fake</td>\n",
              "    </tr>\n",
              "    <tr>\n",
              "      <th>44896</th>\n",
              "      <td>WASHINGTON (Reuters) - U.S. Republican preside...</td>\n",
              "      <td>Santorum to pull out of Republican White House...</td>\n",
              "      <td>True</td>\n",
              "    </tr>\n",
              "    <tr>\n",
              "      <th>44897</th>\n",
              "      <td>Here s the thing about being the leader of the...</td>\n",
              "      <td>The World Speaks Out On Trump — Top Foreign D...</td>\n",
              "      <td>Fake</td>\n",
              "    </tr>\n",
              "  </tbody>\n",
              "</table>\n",
              "<p>44898 rows × 3 columns</p>\n",
              "</div>"
            ],
            "text/plain": [
              "                                                    text  \\\n",
              "0      A clear violation of Obama s lopsided  deal  w...   \n",
              "1      You have got to be kidding me! After all the t...   \n",
              "2      Meanwhile, families with two full time working...   \n",
              "3      JOHANNESBURG (Reuters) - Zimbabwe s top genera...   \n",
              "4      NEW YORK (Reuters) - Republican presidential n...   \n",
              "...                                                  ...   \n",
              "44893  LIMA (Reuters) - President Pedro Pablo Kuczyns...   \n",
              "44894  SEOUL (Reuters) - South Korea s environment mi...   \n",
              "44895  Donald Trump s self-congratulatory ad to celeb...   \n",
              "44896  WASHINGTON (Reuters) - U.S. Republican preside...   \n",
              "44897  Here s the thing about being the leader of the...   \n",
              "\n",
              "                                                   title source  \n",
              "0      BREAKING: Iran Publicly Humiliates Obama…Unvei...   Fake  \n",
              "1      STUNNING DEVELOPMENT: OBAMA GIVES $75 MILLION ...   Fake  \n",
              "2      NO MORE FUN FREEBIES ON BACKS OF HARD WORKING ...   Fake  \n",
              "3      Zimbabwe's Mugabe in talks with ousted vice pr...   True  \n",
              "4      Trump calls tax avoidance 'smart,' most Americ...   True  \n",
              "...                                                  ...    ...  \n",
              "44893  Peru's Congress prepares to oust President Kuc...   True  \n",
              "44894  South Korea to announce approval of environmen...   True  \n",
              "44895   CNN Refuses To Air Trump’s First 100 Days Ad ...   Fake  \n",
              "44896  Santorum to pull out of Republican White House...   True  \n",
              "44897   The World Speaks Out On Trump — Top Foreign D...   Fake  \n",
              "\n",
              "[44898 rows x 3 columns]"
            ]
          },
          "execution_count": 5,
          "metadata": {},
          "output_type": "execute_result"
        }
      ],
      "source": [
        "df.isna().sum()\n",
        "df.dropna()"
      ]
    },
    {
      "cell_type": "markdown",
      "metadata": {},
      "source": [
        "Combining text and title column, these are our features"
      ]
    },
    {
      "cell_type": "code",
      "execution_count": 6,
      "metadata": {},
      "outputs": [
        {
          "data": {
            "text/plain": [
              "0        BREAKING: Iran Publicly Humiliates Obama…Unvei...\n",
              "1        STUNNING DEVELOPMENT: OBAMA GIVES $75 MILLION ...\n",
              "2        NO MORE FUN FREEBIES ON BACKS OF HARD WORKING ...\n",
              "3        Zimbabwe's Mugabe in talks with ousted vice pr...\n",
              "4        Trump calls tax avoidance 'smart,' most Americ...\n",
              "                               ...                        \n",
              "44893    Peru's Congress prepares to oust President Kuc...\n",
              "44894    South Korea to announce approval of environmen...\n",
              "44895     CNN Refuses To Air Trump’s First 100 Days Ad ...\n",
              "44896    Santorum to pull out of Republican White House...\n",
              "44897     The World Speaks Out On Trump — Top Foreign D...\n",
              "Length: 44898, dtype: object"
            ]
          },
          "execution_count": 6,
          "metadata": {},
          "output_type": "execute_result"
        }
      ],
      "source": [
        "text = (df['title'] + df['text']).astype(str)\n",
        "text"
      ]
    },
    {
      "cell_type": "markdown",
      "metadata": {},
      "source": [
        "Cleaning and Lemmatizing Text"
      ]
    },
    {
      "cell_type": "code",
      "execution_count": 7,
      "metadata": {
        "id": "VnFIAfTjui7J"
      },
      "outputs": [
        {
          "data": {
            "text/plain": [
              "0        [breaking, iran, publicly, humiliates, obama, ...\n",
              "1        [stunning, development, obama, give, million, ...\n",
              "2        [fun, freebie, back, hard, working, american, ...\n",
              "3        [zimbabwe, mugabe, talk, ousted, vice, preside...\n",
              "4        [trump, call, tax, avoidance, smart, american,...\n",
              "                               ...                        \n",
              "44893    [peru, congress, prepares, oust, president, ku...\n",
              "44894    [south, korea, announce, approval, environment...\n",
              "44895    [cnn, refuse, air, trump, first, day, ad, one,...\n",
              "44896    [santorum, pull, republican, white, house, rac...\n",
              "44897    [world, speaks, trump, top, foreign, diplomat,...\n",
              "Length: 44898, dtype: object"
            ]
          },
          "execution_count": 7,
          "metadata": {},
          "output_type": "execute_result"
        }
      ],
      "source": [
        "def clean_text(text):\n",
        "    text = re.sub('[^a-zA-Z]', ' ', text)\n",
        "    text = text.lower()\n",
        "    text = text.strip()\n",
        "    return text\n",
        "\n",
        "stop_words = stopwords.words('english')\n",
        "lemmatizer = WordNetLemmatizer()\n",
        "def lemmatize_stopwords(words):\n",
        "    return [lemmatizer.lemmatize(word) for word in words if word.lower() not in stop_words]\n",
        "\n",
        "tokens = text.apply(clean_text).apply(word_tokenize).apply(lemmatize_stopwords)\n",
        "tokens"
      ]
    },
    {
      "cell_type": "markdown",
      "metadata": {},
      "source": [
        "Creating Corpus"
      ]
    },
    {
      "cell_type": "code",
      "execution_count": 8,
      "metadata": {},
      "outputs": [
        {
          "data": {
            "text/plain": [
              "0        breaking iran publicly humiliates obama unveil...\n",
              "1        stunning development obama give million u tax ...\n",
              "2        fun freebie back hard working american kansa t...\n",
              "3        zimbabwe mugabe talk ousted vice president arm...\n",
              "4        trump call tax avoidance smart american call u...\n",
              "                               ...                        \n",
              "44893    peru congress prepares oust president kuczynsk...\n",
              "44894    south korea announce approval environment repo...\n",
              "44895    cnn refuse air trump first day ad one good rea...\n",
              "44896    santorum pull republican white house race cnnw...\n",
              "44897    world speaks trump top foreign diplomat unite ...\n",
              "Length: 44898, dtype: object"
            ]
          },
          "execution_count": 8,
          "metadata": {},
          "output_type": "execute_result"
        }
      ],
      "source": [
        "corpus = tokens.apply(lambda x: ' '.join(x))\n",
        "corpus"
      ]
    },
    {
      "cell_type": "markdown",
      "metadata": {},
      "source": [
        "Vectorizing (TF-IDF Vectorization)"
      ]
    },
    {
      "cell_type": "code",
      "execution_count": 9,
      "metadata": {},
      "outputs": [],
      "source": [
        "vectorizer = TfidfVectorizer(use_idf=True, max_df=0.5, ngram_range=(1, 1))\n",
        "tfidf = vectorizer.fit_transform(corpus)\n",
        "X = tfidf\n",
        "y = df['source']"
      ]
    }
  ],
  "metadata": {
    "colab": {
      "provenance": []
    },
    "kernelspec": {
      "display_name": "Python 3",
      "name": "python3"
    },
    "language_info": {
      "codemirror_mode": {
        "name": "ipython",
        "version": 3
      },
      "file_extension": ".py",
      "mimetype": "text/x-python",
      "name": "python",
      "nbconvert_exporter": "python",
      "pygments_lexer": "ipython3",
      "version": "3.12.3"
    }
  },
  "nbformat": 4,
  "nbformat_minor": 0
}

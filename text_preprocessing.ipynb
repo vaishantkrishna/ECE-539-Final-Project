{
  "cells": [
    {
      "cell_type": "code",
      "execution_count": 1,
      "metadata": {},
      "outputs": [],
      "source": [
        "import pandas as pd\n",
        "import seaborn as sns\n",
        "import matplotlib.pyplot as plt\n",
        "from sklearn.utils import resample\n",
        "import nltk\n",
        "from nltk.tokenize import word_tokenize\n",
        "import pandas as pd\n",
        "import re\n",
        "import tensorflow as tf\n",
        "from nltk.corpus import stopwords\n",
        "from nltk.stem import WordNetLemmatizer\n",
        "from nltk.corpus import stopwords\n",
        "from sklearn.feature_extraction.text import TfidfVectorizer\n",
        "import re"
      ]
    },
    {
      "cell_type": "code",
      "execution_count": null,
      "metadata": {},
      "outputs": [],
      "source": [
        "fake_df = pd.read_csv(\"data/Fake.csv\")\n",
        "true_df = pd.read_csv(\"data/True.csv\")"
      ]
    },
    {
      "cell_type": "markdown",
      "metadata": {},
      "source": [
        "Combining Datasets for Balance Analysis"
      ]
    },
    {
      "cell_type": "code",
      "execution_count": 4,
      "metadata": {},
      "outputs": [
        {
          "data": {
            "text/html": [
              "<div>\n",
              "<style scoped>\n",
              "    .dataframe tbody tr th:only-of-type {\n",
              "        vertical-align: middle;\n",
              "    }\n",
              "\n",
              "    .dataframe tbody tr th {\n",
              "        vertical-align: top;\n",
              "    }\n",
              "\n",
              "    .dataframe thead th {\n",
              "        text-align: right;\n",
              "    }\n",
              "</style>\n",
              "<table border=\"1\" class=\"dataframe\">\n",
              "  <thead>\n",
              "    <tr style=\"text-align: right;\">\n",
              "      <th></th>\n",
              "      <th>text</th>\n",
              "      <th>title</th>\n",
              "      <th>source</th>\n",
              "    </tr>\n",
              "  </thead>\n",
              "  <tbody>\n",
              "    <tr>\n",
              "      <th>0</th>\n",
              "      <td>JOHANNESBURG (Reuters) - A violent feud betwee...</td>\n",
              "      <td>Three more cars torched in South African taxi war</td>\n",
              "      <td>True</td>\n",
              "    </tr>\n",
              "    <tr>\n",
              "      <th>1</th>\n",
              "      <td>BEIJING (Reuters) - China’s navy will join wil...</td>\n",
              "      <td>Xi says China navy to join U.S.-led 2018 Pacif...</td>\n",
              "      <td>True</td>\n",
              "    </tr>\n",
              "    <tr>\n",
              "      <th>2</th>\n",
              "      <td>There s no doubt about it: Trump and his campa...</td>\n",
              "      <td>Time Magazine Cover PERFECTLY Illustrates Wha...</td>\n",
              "      <td>Fake</td>\n",
              "    </tr>\n",
              "    <tr>\n",
              "      <th>3</th>\n",
              "      <td>WASHINGTON (Reuters) - U.S. House Speaker Paul...</td>\n",
              "      <td>House Speaker Ryan says he believes upbeat Tre...</td>\n",
              "      <td>True</td>\n",
              "    </tr>\n",
              "    <tr>\n",
              "      <th>4</th>\n",
              "      <td>Republicans in Oklahoma just took their war on...</td>\n",
              "      <td>Oklahoma GOP Just Took Their War On Women To ...</td>\n",
              "      <td>Fake</td>\n",
              "    </tr>\n",
              "    <tr>\n",
              "      <th>...</th>\n",
              "      <td>...</td>\n",
              "      <td>...</td>\n",
              "      <td>...</td>\n",
              "    </tr>\n",
              "    <tr>\n",
              "      <th>44893</th>\n",
              "      <td>Arguably the most popular myth in the Pantheon...</td>\n",
              "      <td>Ted Cruz Continues To Market In Totally Full ...</td>\n",
              "      <td>Fake</td>\n",
              "    </tr>\n",
              "    <tr>\n",
              "      <th>44894</th>\n",
              "      <td>DUBAI (Reuters) - Dubai s ruler has pardoned a...</td>\n",
              "      <td>Dubai frees Briton sentenced for touching anot...</td>\n",
              "      <td>True</td>\n",
              "    </tr>\n",
              "    <tr>\n",
              "      <th>44895</th>\n",
              "      <td>Deep down, they just want to assimilate Eight ...</td>\n",
              "      <td>MUSLIM INVASION UPDATE: Gang Members In German...</td>\n",
              "      <td>Fake</td>\n",
              "    </tr>\n",
              "    <tr>\n",
              "      <th>44896</th>\n",
              "      <td>(Reuters) - Mississippi’s Republican governor ...</td>\n",
              "      <td>Mississippi governor to join suit against Obam...</td>\n",
              "      <td>True</td>\n",
              "    </tr>\n",
              "    <tr>\n",
              "      <th>44897</th>\n",
              "      <td>Fox News host Greta Van Susteren saw an opport...</td>\n",
              "      <td>Fox News Host Makes Herself A Total Laughings...</td>\n",
              "      <td>Fake</td>\n",
              "    </tr>\n",
              "  </tbody>\n",
              "</table>\n",
              "<p>44898 rows × 3 columns</p>\n",
              "</div>"
            ],
            "text/plain": [
              "                                                    text  \\\n",
              "0      JOHANNESBURG (Reuters) - A violent feud betwee...   \n",
              "1      BEIJING (Reuters) - China’s navy will join wil...   \n",
              "2      There s no doubt about it: Trump and his campa...   \n",
              "3      WASHINGTON (Reuters) - U.S. House Speaker Paul...   \n",
              "4      Republicans in Oklahoma just took their war on...   \n",
              "...                                                  ...   \n",
              "44893  Arguably the most popular myth in the Pantheon...   \n",
              "44894  DUBAI (Reuters) - Dubai s ruler has pardoned a...   \n",
              "44895  Deep down, they just want to assimilate Eight ...   \n",
              "44896  (Reuters) - Mississippi’s Republican governor ...   \n",
              "44897  Fox News host Greta Van Susteren saw an opport...   \n",
              "\n",
              "                                                   title source  \n",
              "0      Three more cars torched in South African taxi war   True  \n",
              "1      Xi says China navy to join U.S.-led 2018 Pacif...   True  \n",
              "2       Time Magazine Cover PERFECTLY Illustrates Wha...   Fake  \n",
              "3      House Speaker Ryan says he believes upbeat Tre...   True  \n",
              "4       Oklahoma GOP Just Took Their War On Women To ...   Fake  \n",
              "...                                                  ...    ...  \n",
              "44893   Ted Cruz Continues To Market In Totally Full ...   Fake  \n",
              "44894  Dubai frees Briton sentenced for touching anot...   True  \n",
              "44895  MUSLIM INVASION UPDATE: Gang Members In German...   Fake  \n",
              "44896  Mississippi governor to join suit against Obam...   True  \n",
              "44897   Fox News Host Makes Herself A Total Laughings...   Fake  \n",
              "\n",
              "[44898 rows x 3 columns]"
            ]
          },
          "execution_count": 4,
          "metadata": {},
          "output_type": "execute_result"
        }
      ],
      "source": [
        "fake_df['source'] = 'Fake'\n",
        "true_df['source'] = 'True'\n",
        "\n",
        "combined_df = pd.concat([fake_df, true_df], axis=0)\n",
        "df = combined_df.sample(frac=1).reset_index(drop=True)\n",
        "df = df[['text', 'title', 'source']] \n",
        "df.to_csv('C:\\\\Users\\\\csalm\\\\OneDrive\\\\Documents\\\\ECE539_final_project\\\\dataset.csv', index=False)\n",
        "df"
      ]
    },
    {
      "cell_type": "markdown",
      "metadata": {},
      "source": [
        "Source Assessment"
      ]
    },
    {
      "cell_type": "code",
      "execution_count": 5,
      "metadata": {},
      "outputs": [
        {
          "data": {
            "text/html": [
              "<div>\n",
              "<style scoped>\n",
              "    .dataframe tbody tr th:only-of-type {\n",
              "        vertical-align: middle;\n",
              "    }\n",
              "\n",
              "    .dataframe tbody tr th {\n",
              "        vertical-align: top;\n",
              "    }\n",
              "\n",
              "    .dataframe thead th {\n",
              "        text-align: right;\n",
              "    }\n",
              "</style>\n",
              "<table border=\"1\" class=\"dataframe\">\n",
              "  <thead>\n",
              "    <tr style=\"text-align: right;\">\n",
              "      <th></th>\n",
              "      <th>text</th>\n",
              "      <th>title</th>\n",
              "      <th>source</th>\n",
              "    </tr>\n",
              "  </thead>\n",
              "  <tbody>\n",
              "    <tr>\n",
              "      <th>0</th>\n",
              "      <td>JOHANNESBURG (Reuters) - A violent feud betwee...</td>\n",
              "      <td>Three more cars torched in South African taxi war</td>\n",
              "      <td>True</td>\n",
              "    </tr>\n",
              "    <tr>\n",
              "      <th>1</th>\n",
              "      <td>BEIJING (Reuters) - China’s navy will join wil...</td>\n",
              "      <td>Xi says China navy to join U.S.-led 2018 Pacif...</td>\n",
              "      <td>True</td>\n",
              "    </tr>\n",
              "    <tr>\n",
              "      <th>2</th>\n",
              "      <td>There s no doubt about it: Trump and his campa...</td>\n",
              "      <td>Time Magazine Cover PERFECTLY Illustrates Wha...</td>\n",
              "      <td>Fake</td>\n",
              "    </tr>\n",
              "    <tr>\n",
              "      <th>3</th>\n",
              "      <td>WASHINGTON (Reuters) - U.S. House Speaker Paul...</td>\n",
              "      <td>House Speaker Ryan says he believes upbeat Tre...</td>\n",
              "      <td>True</td>\n",
              "    </tr>\n",
              "    <tr>\n",
              "      <th>4</th>\n",
              "      <td>Republicans in Oklahoma just took their war on...</td>\n",
              "      <td>Oklahoma GOP Just Took Their War On Women To ...</td>\n",
              "      <td>Fake</td>\n",
              "    </tr>\n",
              "    <tr>\n",
              "      <th>...</th>\n",
              "      <td>...</td>\n",
              "      <td>...</td>\n",
              "      <td>...</td>\n",
              "    </tr>\n",
              "    <tr>\n",
              "      <th>44893</th>\n",
              "      <td>Arguably the most popular myth in the Pantheon...</td>\n",
              "      <td>Ted Cruz Continues To Market In Totally Full ...</td>\n",
              "      <td>Fake</td>\n",
              "    </tr>\n",
              "    <tr>\n",
              "      <th>44894</th>\n",
              "      <td>DUBAI (Reuters) - Dubai s ruler has pardoned a...</td>\n",
              "      <td>Dubai frees Briton sentenced for touching anot...</td>\n",
              "      <td>True</td>\n",
              "    </tr>\n",
              "    <tr>\n",
              "      <th>44895</th>\n",
              "      <td>Deep down, they just want to assimilate Eight ...</td>\n",
              "      <td>MUSLIM INVASION UPDATE: Gang Members In German...</td>\n",
              "      <td>Fake</td>\n",
              "    </tr>\n",
              "    <tr>\n",
              "      <th>44896</th>\n",
              "      <td>(Reuters) - Mississippi’s Republican governor ...</td>\n",
              "      <td>Mississippi governor to join suit against Obam...</td>\n",
              "      <td>True</td>\n",
              "    </tr>\n",
              "    <tr>\n",
              "      <th>44897</th>\n",
              "      <td>Fox News host Greta Van Susteren saw an opport...</td>\n",
              "      <td>Fox News Host Makes Herself A Total Laughings...</td>\n",
              "      <td>Fake</td>\n",
              "    </tr>\n",
              "  </tbody>\n",
              "</table>\n",
              "<p>44898 rows × 3 columns</p>\n",
              "</div>"
            ],
            "text/plain": [
              "                                                    text  \\\n",
              "0      JOHANNESBURG (Reuters) - A violent feud betwee...   \n",
              "1      BEIJING (Reuters) - China’s navy will join wil...   \n",
              "2      There s no doubt about it: Trump and his campa...   \n",
              "3      WASHINGTON (Reuters) - U.S. House Speaker Paul...   \n",
              "4      Republicans in Oklahoma just took their war on...   \n",
              "...                                                  ...   \n",
              "44893  Arguably the most popular myth in the Pantheon...   \n",
              "44894  DUBAI (Reuters) - Dubai s ruler has pardoned a...   \n",
              "44895  Deep down, they just want to assimilate Eight ...   \n",
              "44896  (Reuters) - Mississippi’s Republican governor ...   \n",
              "44897  Fox News host Greta Van Susteren saw an opport...   \n",
              "\n",
              "                                                   title source  \n",
              "0      Three more cars torched in South African taxi war   True  \n",
              "1      Xi says China navy to join U.S.-led 2018 Pacif...   True  \n",
              "2       Time Magazine Cover PERFECTLY Illustrates Wha...   Fake  \n",
              "3      House Speaker Ryan says he believes upbeat Tre...   True  \n",
              "4       Oklahoma GOP Just Took Their War On Women To ...   Fake  \n",
              "...                                                  ...    ...  \n",
              "44893   Ted Cruz Continues To Market In Totally Full ...   Fake  \n",
              "44894  Dubai frees Briton sentenced for touching anot...   True  \n",
              "44895  MUSLIM INVASION UPDATE: Gang Members In German...   Fake  \n",
              "44896  Mississippi governor to join suit against Obam...   True  \n",
              "44897   Fox News Host Makes Herself A Total Laughings...   Fake  \n",
              "\n",
              "[44898 rows x 3 columns]"
            ]
          },
          "execution_count": 5,
          "metadata": {},
          "output_type": "execute_result"
        }
      ],
      "source": [
        "df.isna().sum()\n",
        "df.dropna()"
      ]
    },
    {
      "cell_type": "markdown",
      "metadata": {},
      "source": [
        "##### **Combining text and title column, these are our features**"
      ]
    },
    {
      "cell_type": "code",
      "execution_count": 6,
      "metadata": {},
      "outputs": [
        {
          "data": {
            "text/plain": [
              "0        three more cars torched in south african taxi ...\n",
              "1        xi says china navy to join u.s.-led 2018 pacif...\n",
              "2        time magazine cover perfectly illustrates what...\n",
              "3        house speaker ryan says he believes upbeat tre...\n",
              "4        oklahoma gop just took their war on women to a...\n",
              "                               ...                        \n",
              "44893    ted cruz continues to market in totally full o...\n",
              "44894    dubai frees briton sentenced for touching anot...\n",
              "44895    muslim invasion update: gang members in german...\n",
              "44896    mississippi governor to join suit against obam...\n",
              "44897    fox news host makes herself a total laughingst...\n",
              "Length: 44898, dtype: object"
            ]
          },
          "execution_count": 6,
          "metadata": {},
          "output_type": "execute_result"
        }
      ],
      "source": [
        "text = (df['title'] + df['text']).astype(str)\n",
        "text"
      ]
    },
    {
      "cell_type": "markdown",
      "metadata": {},
      "source": [
        "Cleaning and Lemmatizing Text"
      ]
    },
    {
      "cell_type": "code",
      "execution_count": 41,
      "metadata": {
        "id": "VnFIAfTjui7J"
      },
      "outputs": [
        {
          "data": {
            "text/plain": [
              "0        [three, car, torched, south, african, taxi, wa...\n",
              "1        [xi, say, china, navy, join, u, led, pacific, ...\n",
              "2        [time, magazine, cover, perfectly, illustrates...\n",
              "3        [house, speaker, ryan, say, belief, upbeat, tr...\n",
              "4        [oklahoma, gop, took, war, woman, whole, new, ...\n",
              "                               ...                        \n",
              "44893    [ted, cruz, continues, market, totally, full, ...\n",
              "44894    [dubai, free, briton, sentenced, touching, ano...\n",
              "44895    [muslim, invasion, update, gang, member, germa...\n",
              "44896    [mississippi, governor, join, suit, obama, tra...\n",
              "44897    [fox, news, host, make, total, laughingstock, ...\n",
              "Length: 44898, dtype: object"
            ]
          },
          "execution_count": 41,
          "metadata": {},
          "output_type": "execute_result"
        }
      ],
      "source": [
        "def clean_text(text):\n",
        "    text = re.sub('[^a-zA-Z]', ' ', text)\n",
        "    text = text.lower()\n",
        "    text = text.strip()\n",
        "    return text\n",
        "\n",
        "stop_words = stopwords.words('english')\n",
        "lemmatizer = WordNetLemmatizer()\n",
        "def lemmatize_stopwords(words):\n",
        "    return [lemmatizer.lemmatize(word) for word in words if word.lower() not in stop_words]\n",
        "\n",
        "tokens = text.apply(clean_text).apply(word_tokenize).apply(lemmatize_stopwords)\n",
        "tokens"
      ]
    },
    {
      "cell_type": "markdown",
      "metadata": {},
      "source": [
        "Creating Corpus"
      ]
    },
    {
      "cell_type": "code",
      "execution_count": 42,
      "metadata": {},
      "outputs": [
        {
          "data": {
            "text/plain": [
              "0        three car torched south african taxi warjohann...\n",
              "1        xi say china navy join u led pacific rim drill...\n",
              "2        time magazine cover perfectly illustrates happ...\n",
              "3        house speaker ryan say belief upbeat treasury ...\n",
              "4        oklahoma gop took war woman whole new level cr...\n",
              "                               ...                        \n",
              "44893    ted cruz continues market totally full sh myth...\n",
              "44894    dubai free briton sentenced touching another m...\n",
              "44895    muslim invasion update gang member germany tri...\n",
              "44896    mississippi governor join suit obama transgend...\n",
              "44897    fox news host make total laughingstock attempt...\n",
              "Length: 44898, dtype: object"
            ]
          },
          "execution_count": 42,
          "metadata": {},
          "output_type": "execute_result"
        }
      ],
      "source": [
        "corpus = tokens.apply(lambda x: ' '.join(x))\n",
        "corpus"
      ]
    },
    {
      "cell_type": "markdown",
      "metadata": {},
      "source": [
        "Vectorizing (TF-IDF Vectorization)"
      ]
    },
    {
      "cell_type": "code",
      "execution_count": 46,
      "metadata": {},
      "outputs": [],
      "source": [
        "vectorizer = TfidfVectorizer(use_idf=True, max_df=0.5, ngram_range=(1, 1))\n",
        "tfidf = vectorizer.fit_transform(corpus)\n",
        "X = tfidf\n",
        "y = df['source']"
      ]
    }
  ],
  "metadata": {
    "colab": {
      "provenance": []
    },
    "kernelspec": {
      "display_name": "Python 3",
      "name": "python3"
    },
    "language_info": {
      "codemirror_mode": {
        "name": "ipython",
        "version": 3
      },
      "file_extension": ".py",
      "mimetype": "text/x-python",
      "name": "python",
      "nbconvert_exporter": "python",
      "pygments_lexer": "ipython3",
      "version": "3.11.9"
    }
  },
  "nbformat": 4,
  "nbformat_minor": 0
}
